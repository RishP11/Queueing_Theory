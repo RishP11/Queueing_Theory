{
 "cells": [
  {
   "cell_type": "markdown",
   "metadata": {},
   "source": [
    "### EE 699 Next Generation Wireless Networks \n",
    "- Assignment 02 \n",
    "- Author: $\\text{Rishabh Pomaje}$ \n",
    "- Contact: 210020036@iitdh.ac.in\n",
    "\n",
    "- In this notebook, we will simulate the following queues and compare our empirical findings with the analytic results.\n",
    "- Scheduling discipline used : _First-In-First-Out_."
   ]
  },
  {
   "cell_type": "code",
   "execution_count": 18,
   "metadata": {},
   "outputs": [],
   "source": [
    "# Dependencies :\n",
    "import numpy as np\n",
    "import queue_models as qm\n",
    "\n",
    "import matplotlib.pyplot as plt \n",
    "%config InlineBackend.figure_format='svg'\n",
    "# Set global parameters for publication quality\n",
    "plt.rcParams.update({\n",
    "    \"text.usetex\": True,            # Comment if TeX is unavailable on your machine \n",
    "    \"font.family\": \"serif\",          \n",
    "})\n",
    "import seaborn as sns \n",
    "sns.set_theme('paper')"
   ]
  },
  {
   "cell_type": "code",
   "execution_count": null,
   "metadata": {},
   "outputs": [],
   "source": [
    "# Global functions :\n",
    "def factorial(n):\n",
    "    n_fac = 1 \n",
    "    for i in range(1, n+1):\n",
    "        n_fac *= i\n",
    "    \n",
    "    return n_fac"
   ]
  },
  {
   "cell_type": "code",
   "execution_count": null,
   "metadata": {},
   "outputs": [],
   "source": [
    "# Global Definitions :\n",
    "del_t = 10 ** -3            # smallest time resolution :: in some time units\n",
    "\n",
    "# del_t = 10 ** -4            # Uncomment for better matching of empirical results*     \n",
    "total_simul_time = 1000     # In common time units\n",
    "arrival_rate = 6            # Number of arrivals per unit time\n",
    "departure_rate = 11         # Number of departure per unit time\n",
    "\n",
    "# * making del_t smaller will result in closer matching of the analytical results with empirical ones.\n",
    "# However, the simulation time (execution time) of the code increases. It might require upto 2-3 mins \n",
    "# per queue for simluation to complete. "
   ]
  },
  {
   "cell_type": "markdown",
   "metadata": {},
   "source": [
    "#### M/M/1 Queue\n",
    "\n",
    "- Note: The arrival rate should be lesser than the departure rate to achieve equilibrium."
   ]
  },
  {
   "cell_type": "code",
   "execution_count": null,
   "metadata": {},
   "outputs": [],
   "source": [
    "queue_history, arr_Times, dep_Times, ind_Times = qm.m_m_1_q(total_simul_time, del_t, arrival_rate, departure_rate)"
   ]
  },
  {
   "cell_type": "markdown",
   "metadata": {},
   "source": [
    "- Evolution of the state of the system"
   ]
  },
  {
   "cell_type": "code",
   "execution_count": null,
   "metadata": {},
   "outputs": [],
   "source": [
    "fig, axes = plt.subplots()\n",
    "axes.plot(del_t * np.arange(int(total_simul_time / del_t)), queue_history, color='navy')\n",
    "axes.set_xlabel(f'time')\n",
    "axes.set_ylabel(f'State of the system, $N(t)$')\n",
    "axes.set_title(f'M/M/1 with $\\lambda =${arrival_rate}, $\\mu = ${departure_rate}')\n",
    "fig.savefig(f'simulation_results/mm1_state_history_{arrival_rate}_{departure_rate}.pdf')\n",
    "fig.savefig(f'simulation_results/mm1_state_history_{arrival_rate}_{departure_rate}.svg', transparent=True)"
   ]
  },
  {
   "cell_type": "markdown",
   "metadata": {},
   "source": [
    "Observations: \n",
    "1. The queue size does not grow without bounds when $\\lambda < \\mu$. "
   ]
  },
  {
   "cell_type": "markdown",
   "metadata": {},
   "source": [
    "- Distribution of Inter-Arrival times\n",
    "\n",
    "1. Analytical Distribution :\n",
    "    Inter-arrival times $\\overset{i.i.d}{\\sim} \\text{Exponential}(\\lambda)$, where $\\lambda$ is the arrival rate."
   ]
  },
  {
   "cell_type": "code",
   "execution_count": null,
   "metadata": {},
   "outputs": [],
   "source": [
    "# Ideal PDF of Inter-arrival times :\n",
    "t_curr_customer = np.linspace(0, np.max(arr_Times), 1000)\n",
    "analytical_dist = arrival_rate * np.exp(-arrival_rate * t_curr_customer)\n",
    "\n",
    "fig, axes = plt.subplots()\n",
    "# Plot the ideal line\n",
    "axes.plot(t_curr_customer, analytical_dist, color='purple', label='Analytical')\n",
    "# Plot the empirical line\n",
    "axes.hist(arr_Times, bins=31, density=True, linewidth=0.5, edgecolor='tan', color='salmon', label='Empirical')\n",
    "axes.set_xlabel(f'time')\n",
    "axes.set_ylabel(f'$f_T(t)$', rotation=0)\n",
    "axes.set_title(f'M/M/1 with $\\lambda =${arrival_rate}, $\\mu = ${departure_rate}')\n",
    "axes.legend()\n",
    "fig.savefig(f'simulation_results/mm1_interArrivalTime_{arrival_rate}_{departure_rate}.pdf')\n",
    "fig.savefig(f'simulation_results/mm1_interArrivalTime_{arrival_rate}_{departure_rate}.svg', transparent=True)"
   ]
  },
  {
   "cell_type": "markdown",
   "metadata": {},
   "source": [
    "Observations:\n",
    "1. The analytical distribution matches the empirically plotted density histogram.\n",
    "2. The distribution of interarrival times is exponential with rate $\\lambda$."
   ]
  },
  {
   "cell_type": "markdown",
   "metadata": {},
   "source": [
    "- State Probabilities\n",
    "\n",
    "Analytical State Probabilities  in equilibrium i.e., when ($\\lambda < \\mu$),\n",
    "\\begin{align}\n",
    "p_n &= \\mathbb{P}(\\text{Queue is in state }n) \\\\\n",
    "    &= (1 - \\rho) \\rho^n\\ \\quad\\ \\ldots\\ 0 \\leq n.\n",
    "\\end{align}"
   ]
  },
  {
   "cell_type": "code",
   "execution_count": null,
   "metadata": {},
   "outputs": [],
   "source": [
    "rho = arrival_rate / departure_rate\n",
    "analytical_dist = []\n",
    "for i in range(25):\n",
    "    p_i = (rho ** i) * (1 - rho)\n",
    "    analytical_dist.append(p_i)\n",
    "\n",
    "# First, we will extract the unique states and their respective frequencies:\n",
    "unique_elements, counts = np.unique(queue_history, return_counts=True)\n",
    "\n",
    "total_count = np.sum(counts)\n",
    "\n",
    "fig, axes = plt.subplots()\n",
    "axes.stem(analytical_dist, linefmt='cornflowerblue', basefmt='cornflowerblue', label='Analytical')\n",
    "axes.bar(unique_elements, counts / total_count, color='midnightblue', label='Empirical')\n",
    "axes.set_ylabel(f'$p_n$', rotation=0)\n",
    "axes.set_title(f'M/M/1 with $\\lambda =${arrival_rate}, $\\mu = ${departure_rate}')\n",
    "axes.legend()\n",
    "fig.savefig(f'simulation_results/mm1_stateProbs_{arrival_rate}_{departure_rate}.pdf')\n",
    "fig.savefig(f'simulation_results/mm1_stateProbs_{arrival_rate}_{departure_rate}.svg', transparent=True)"
   ]
  },
  {
   "cell_type": "markdown",
   "metadata": {},
   "source": [
    "Observations:\n",
    "1. For the most part, the fit of the PMF found analytically and that found bar plotting the empirical results match up.\n",
    "2. The mismatch in some states is due to the stochastic (random) variability of the experiment."
   ]
  },
  {
   "cell_type": "markdown",
   "metadata": {},
   "source": [
    "- Average number of customers and Variance of number of customers\n",
    "\n",
    "Analytical Expressions (in equilibrium):\n",
    "\\begin{align}\n",
    "\\text{Mean number of customers} &:       \\bar{N} = \\frac{\\rho}{1 - \\rho} \\\\\n",
    "\\text{Variance of Number of customers} &: \\text{var}(N) = \\frac{\\rho}{(1 - \\rho)^2}\n",
    "\\end{align}"
   ]
  },
  {
   "cell_type": "code",
   "execution_count": null,
   "metadata": {},
   "outputs": [],
   "source": [
    "mean_empirical = np.mean(queue_history)\n",
    "mean_analytical = rho / (1 - rho)\n",
    "\n",
    "print(f'Expected mean value : {mean_analytical}\\n -> Observed mean value : {mean_empirical}')\n",
    "\n",
    "var_empirical = np.var(queue_history)\n",
    "var_analytical = rho / ((1 - rho) ** 2)\n",
    "print(f'Expected variance : {var_analytical}\\n -> Observed variance : {var_empirical}')"
   ]
  },
  {
   "cell_type": "markdown",
   "metadata": {},
   "source": [
    "- Little's Law:\n",
    "    - The average number of customers in a queue is equal to the product of the arrival rate times the average time spent in the queue.\n",
    "    - $\\bar{N} = \\lambda \\bar{\\tau}$"
   ]
  },
  {
   "cell_type": "code",
   "execution_count": null,
   "metadata": {},
   "outputs": [],
   "source": [
    "print(f'Average number of customers in the queue = {mean_empirical}')\n",
    "print(f'lambda * T_avg = {arrival_rate * np.mean(ind_Times)}')"
   ]
  },
  {
   "cell_type": "markdown",
   "metadata": {},
   "source": [
    "Response time distribution\n",
    "\n",
    "$\\text{reponse time} (T) = \\text{waiting time} + \\text{service time}$"
   ]
  },
  {
   "cell_type": "code",
   "execution_count": null,
   "metadata": {},
   "outputs": [],
   "source": [
    "fig, axes = plt.subplots()\n",
    "axes.hist(ind_Times, bins=41, edgecolor='black', linewidth=0.5, color='maroon', density=True, label='Empirical')\n",
    "axes.set_xlabel(f'$t$')\n",
    "axes.set_ylabel(f'$f_T(t)$')\n",
    "axes.legend()\n",
    "axes.set_title(f'M/M/1 with $\\lambda = ${arrival_rate}, $\\mu = ${departure_rate}')\n",
    "fig.savefig(f'simulation_results/mm1_response_time_{arrival_rate}_{departure_rate}.pdf')\n",
    "fig.savefig(f'simulation_results/mm1_response_time_{arrival_rate}_{departure_rate}.svg', transparent=True)"
   ]
  },
  {
   "cell_type": "markdown",
   "metadata": {},
   "source": [
    "Observations:\n",
    "1. Plotted the histogram of this quantity just out of interest and in search of new insights."
   ]
  },
  {
   "cell_type": "markdown",
   "metadata": {},
   "source": [
    "#### M/M/1/N - _Finite buffer case_ "
   ]
  },
  {
   "cell_type": "code",
   "execution_count": null,
   "metadata": {},
   "outputs": [],
   "source": [
    "buffer_size = 10                            # Buffer size of the queue\n",
    "queue_history, arr_Times, dep_Times, ind_Times = qm.m_m_1_N_q(total_simul_time, del_t, arrival_rate, departure_rate, buffer_size)"
   ]
  },
  {
   "cell_type": "code",
   "execution_count": null,
   "metadata": {},
   "outputs": [],
   "source": [
    "np.max(queue_history)                       # Maximum size of the queue at any point in time is atmost buffer_size"
   ]
  },
  {
   "cell_type": "markdown",
   "metadata": {},
   "source": [
    "- Evolution of the state of the system"
   ]
  },
  {
   "cell_type": "code",
   "execution_count": null,
   "metadata": {},
   "outputs": [],
   "source": [
    "fig, axes = plt.subplots()\n",
    "axes.plot(del_t * np.arange(int(total_simul_time / del_t)), queue_history, color='navy')\n",
    "axes.set_xlabel(f'time')\n",
    "axes.set_ylabel(f'State of the system, $N(t)$')\n",
    "axes.set_title(f'M/M/1/N with $\\lambda = ${arrival_rate}, $\\mu = ${departure_rate}')\n",
    "fig.savefig(f'simulation_results/mm1N_state_history_{arrival_rate}_{departure_rate}.pdf')\n",
    "fig.savefig(f'simulation_results/mm1N_state_history_{arrival_rate}_{departure_rate}.svg', transparent=True)"
   ]
  },
  {
   "cell_type": "markdown",
   "metadata": {},
   "source": [
    "- Distribution of Inter-Arrival times\n",
    "\n",
    "Analytical Distribution :\n",
    "    Inter-arrival times $\\overset{i.i.d}{\\sim} \\text{Exponential}(\\lambda)$"
   ]
  },
  {
   "cell_type": "code",
   "execution_count": null,
   "metadata": {},
   "outputs": [],
   "source": [
    "# Ideal PDF of Inter-arrival times :\n",
    "t_curr_customer = np.linspace(0, max(arr_Times), 1000)\n",
    "analytical_dist = arrival_rate * np.exp(-arrival_rate * t_curr_customer)\n",
    "\n",
    "fig, axes = plt.subplots()\n",
    "# Plot the analytical line\n",
    "axes.plot(t_curr_customer, analytical_dist, color='purple', label='Ideal')\n",
    "# Plot the empirical line\n",
    "axes.hist(arr_Times, bins=41, density=True, linewidth=0.5, edgecolor='tan', color='salmon', label='Empirical')\n",
    "axes.set_xlabel(f'time')\n",
    "axes.set_ylabel(f'$f_T(t)$', rotation=0)\n",
    "axes.set_title(f'M/M/1/N with $\\lambda = ${arrival_rate}, $\\mu = ${departure_rate}')\n",
    "axes.legend()\n",
    "fig.savefig(f'simulation_results/mm1N_interArrivalTime_{arrival_rate}_{departure_rate}.pdf')\n",
    "fig.savefig(f'simulation_results/mm1N_interArrivalTime_{arrival_rate}_{departure_rate}.svg', transparent=True)"
   ]
  },
  {
   "cell_type": "markdown",
   "metadata": {},
   "source": [
    "- State Probabilities\n",
    "\n",
    "Analytical distribution under equilibrium $\\lambda < \\mu$ :\n",
    "\n",
    "\\begin{align}\n",
    "    p_n &= \\mathbb{P}(\\text{system is in state n})\\\\\n",
    "        &=  \\frac{(1 - \\rho) \\rho ^ n}{1 - \\rho ^{N + 1}}\\ &&\\quad\\ \\ldots\\ 0 \\leq n \\leq N, \\rho \\neq 1\\\\\n",
    "        &=  \\frac{1}{N + 1}\\ &&\\quad\\ \\ldots\\ 0 \\leq n \\leq N, \\rho = 1\\\\\n",
    "\\end{align}"
   ]
  },
  {
   "cell_type": "code",
   "execution_count": null,
   "metadata": {},
   "outputs": [],
   "source": [
    "rho = arrival_rate / departure_rate\n",
    "analytical_dist = []\n",
    "for i in range(buffer_size+1):\n",
    "    if rho == 1:\n",
    "        analytical_dist.append(1 / (buffer_size + 1))\n",
    "    else:\n",
    "        p_i = (1 - rho) * (rho ** i) / (1 - (rho ** (buffer_size+1)))\n",
    "        analytical_dist.append(p_i)\n",
    "\n",
    "# First, we will extract the unique states and their respective frequencies:\n",
    "unique_elements, counts = np.unique(queue_history, return_counts=True)\n",
    "\n",
    "total_count = sum(counts)\n",
    "\n",
    "fig, axes = plt.subplots()\n",
    "axes.stem(analytical_dist, linefmt='cornflowerblue', basefmt='cornflowerblue', label='Ideal')\n",
    "axes.bar(unique_elements, counts / total_count, color='midnightblue', label='Empirical')\n",
    "axes.set_ylabel(f'$p_n$')\n",
    "axes.set_title(f'M/M/1/N with $\\lambda = ${arrival_rate}, $\\mu = ${departure_rate}')\n",
    "axes.legend()\n",
    "fig.savefig(f'simulation_results/mm1N_stateProbs_{arrival_rate}_{departure_rate}.pdf')\n",
    "fig.savefig(f'simulation_results/mm1N_stateProbs_{arrival_rate}_{departure_rate}.svg', transparent=True)"
   ]
  },
  {
   "cell_type": "markdown",
   "metadata": {},
   "source": [
    "#### M/M/$\\infty$ - Infinite server system"
   ]
  },
  {
   "cell_type": "code",
   "execution_count": null,
   "metadata": {},
   "outputs": [],
   "source": [
    "queue_history, arr_Times, dep_Times, ind_Times = qm.m_m_infinite_q(total_simul_time, del_t, arrival_rate, departure_rate)"
   ]
  },
  {
   "cell_type": "markdown",
   "metadata": {},
   "source": [
    "- Evolution of the state of the system"
   ]
  },
  {
   "cell_type": "code",
   "execution_count": null,
   "metadata": {},
   "outputs": [],
   "source": [
    "fig, axes = plt.subplots()\n",
    "axes.plot(del_t * np.arange(int(total_simul_time / del_t)), queue_history, color='navy')\n",
    "axes.set_xlabel(f'time')\n",
    "axes.set_ylabel(f'State of the system, $N(t)$')\n",
    "axes.set_title(f'M/M/$\\infty$ with $\\lambda = ${arrival_rate}, $\\mu = ${departure_rate}')\n",
    "fig.savefig(f'simulation_results/mmInf_state_history_{arrival_rate}_{departure_rate}.pdf')\n",
    "fig.savefig(f'simulation_results/mmInf_state_history_{arrival_rate}_{departure_rate}.svg', transparent=True)"
   ]
  },
  {
   "cell_type": "markdown",
   "metadata": {},
   "source": [
    "- Distribution of Inter-Arrival times\n",
    "\n",
    "Analytical distribution : Inter-arrival times $\\overset{i.i.d}{\\sim} \\text{Exponential}(\\lambda)$"
   ]
  },
  {
   "cell_type": "code",
   "execution_count": null,
   "metadata": {},
   "outputs": [],
   "source": [
    "# Ideal PDF of Inter-arrival times :\n",
    "t_curr_customer = np.linspace(0, np.max(arr_Times), 1000)\n",
    "analytical_dist = arrival_rate * np.exp(-arrival_rate * t_curr_customer)\n",
    "\n",
    "fig, axes = plt.subplots()\n",
    "# Plot the ideal line\n",
    "axes.plot(t_curr_customer, analytical_dist, color='purple', label='Ideal')\n",
    "# Plot the empirical line\n",
    "axes.hist(arr_Times, bins=41, density=True, linewidth=0.5, edgecolor='tan', color='salmon', label='Empirical')\n",
    "axes.set_xlabel(f'time')\n",
    "axes.set_ylabel(f'$f_T(t)$', rotation=0)\n",
    "axes.set_title(f'M/M/$\\infty$ with $\\lambda = ${arrival_rate}, $\\mu = ${departure_rate}')\n",
    "axes.legend()\n",
    "fig.savefig(f'simulation_results/mmInf_interArrivalTime_{arrival_rate}_{departure_rate}.pdf')\n",
    "fig.savefig(f'simulation_results/mmInf_interArrivalTime_{arrival_rate}_{departure_rate}.svg', transparent=True)"
   ]
  },
  {
   "cell_type": "markdown",
   "metadata": {},
   "source": [
    "- State Probabilities\n",
    "\n",
    "Analytical state probabilities at equilibrium ($\\lambda < \\mu$).\n",
    "\\begin{align}\n",
    " p_n &= \\mathbb{P}(\\text{system is in state }n) \\\\\n",
    " &= \\frac{\\rho^n}{n!} e^{-\\rho}\\ &&\\quad\\ \\ldots\\ n \\geq 0.\\\\\n",
    " \\text{where, } \\rho &= \\frac{\\lambda}{\\mu} \n",
    "\\end{align}\n"
   ]
  },
  {
   "cell_type": "code",
   "execution_count": null,
   "metadata": {},
   "outputs": [],
   "source": [
    "rho = arrival_rate / departure_rate\n",
    "analytical_dist = []\n",
    "for i in range(25):\n",
    "    p_i = (rho ** i) * np.exp(-rho) / factorial(i)\n",
    "    analytical_dist.append(p_i)\n",
    "\n",
    "# First, we will extract the unique states and their respective frequencies:\n",
    "unique_elements, counts = np.unique(queue_history, return_counts=True)\n",
    "\n",
    "total_count = sum(counts)\n",
    "\n",
    "fig, axes = plt.subplots()\n",
    "axes.stem(analytical_dist, linefmt='cornflowerblue', basefmt='cornflowerblue', label='Ideal')\n",
    "axes.bar(unique_elements, counts / total_count, color='midnightblue', label='Empirical')\n",
    "axes.set_ylabel(f'$p_n$')\n",
    "axes.set_title(f'M/M/$\\infty$ with $\\lambda = ${arrival_rate}, $\\mu = ${departure_rate}')\n",
    "axes.legend()\n",
    "fig.savefig(f'simulation_results/mmInf_stateProbs_{arrival_rate}_{departure_rate}.pdf')\n",
    "fig.savefig(f'simulation_results/mmInf_stateProbs_{arrival_rate}_{departure_rate}.svg', transparent=True)"
   ]
  },
  {
   "cell_type": "markdown",
   "metadata": {},
   "source": [
    "- Average number of customers and Variance of number of customers"
   ]
  },
  {
   "cell_type": "code",
   "execution_count": null,
   "metadata": {},
   "outputs": [],
   "source": [
    "mean_empirical = np.mean(queue_history)\n",
    "mean_analytical = rho \n",
    "\n",
    "print(f'Expected mean value : {mean_analytical}\\n -> Observed mean value : {mean_empirical}')\n",
    "\n",
    "var_empirical = np.var(queue_history)\n",
    "var_analytical = rho \n",
    "\n",
    "print(f'Expected variance : {var_analytical}\\n -> Observed variance : {var_empirical}')"
   ]
  },
  {
   "cell_type": "markdown",
   "metadata": {},
   "source": [
    "- Departure time (per user) distribution:\n",
    "\n",
    "In this case, since a customer need not wait in a queue and directly goes into service, it is expected that the time spent in the `queueing facility` is distributed as $\\text{Exponential}(\\mu)$."
   ]
  },
  {
   "cell_type": "code",
   "execution_count": null,
   "metadata": {},
   "outputs": [],
   "source": [
    "# Analytical Distribution:\n",
    "x = np.linspace(0, 1, 1000)      \n",
    "y = departure_rate * np.exp(-departure_rate * x)\n",
    "\n",
    "fig, axes = plt.subplots()\n",
    "axes.plot(x, y, color='salmon', label='analytical')\n",
    "axes.hist(ind_Times, bins=41, edgecolor='black', linewidth=0.5, color='maroon', density=True, label='Empirical')\n",
    "axes.set_xlabel(f'$t$')\n",
    "axes.set_ylabel(f'$f_T(t)$')\n",
    "axes.legend()\n",
    "axes.set_title(f'M/M/$\\infty$ with $\\lambda = ${arrival_rate}, $\\mu = ${departure_rate}')\n",
    "fig.savefig(f'simulation_results/mmInf_response_time_{arrival_rate}_{departure_rate}.pdf')\n",
    "fig.savefig(f'simulation_results/mmInf_response_time_{arrival_rate}_{departure_rate}.svg', transparent=True)"
   ]
  },
  {
   "cell_type": "markdown",
   "metadata": {},
   "source": [
    "#### M/M/m - Multiple but Finite Servers"
   ]
  },
  {
   "cell_type": "code",
   "execution_count": null,
   "metadata": {},
   "outputs": [],
   "source": [
    "num_servers = 5 \n",
    "queue_history, arr_Times, dep_Times, ind_Times, waiting_room_state, server_room_state = qm.m_m_m_q(total_simul_time, del_t, arrival_rate, departure_rate, num_servers)"
   ]
  },
  {
   "cell_type": "markdown",
   "metadata": {},
   "source": [
    "- Evolution of the state of the system"
   ]
  },
  {
   "cell_type": "code",
   "execution_count": null,
   "metadata": {},
   "outputs": [],
   "source": [
    "fig, axes = plt.subplots()\n",
    "axes.plot(del_t * np.arange(int(total_simul_time / del_t)), queue_history, color='navy')\n",
    "axes.set_xlabel(f'time')\n",
    "axes.set_ylabel(f'State of the system, $N(t)$')\n",
    "axes.set_title(f'M/M/m with $\\lambda = ${arrival_rate}, $\\mu = ${departure_rate}')\n",
    "fig.savefig(f'simulation_results/mmm_state_history_{arrival_rate}_{departure_rate}.pdf')\n",
    "fig.savefig(f'simulation_results/mmm_state_history_{arrival_rate}_{departure_rate}.svg', transparent=True)"
   ]
  },
  {
   "cell_type": "markdown",
   "metadata": {},
   "source": [
    "- Distribution of Inter-Arrival times\n",
    "\n",
    "Analytical Distribution : Inter-Arrival Times $\\overset{i.i.d}{\\sim} \\text{Exponential}(\\lambda)$  "
   ]
  },
  {
   "cell_type": "code",
   "execution_count": null,
   "metadata": {},
   "outputs": [],
   "source": [
    "# Analytical PDF of Inter-arrival times :\n",
    "t_curr_customer = np.linspace(0, 2, 1000)\n",
    "analytical_dist = arrival_rate * np.exp(-arrival_rate * t_curr_customer)\n",
    "\n",
    "fig, axes = plt.subplots()\n",
    "# Plot the analytical PDF\n",
    "axes.plot(t_curr_customer, analytical_dist, color='purple', label='Analytical')\n",
    "# Plot the empirical line\n",
    "axes.hist(arr_Times, bins=41, density=True, linewidth=0.5, edgecolor='tan', color='salmon', label='Empirical')\n",
    "axes.set_xlabel(f'time')\n",
    "axes.set_ylabel(f'$f_T(t)$', rotation=0)\n",
    "axes.set_title(f'M/M/m with $\\lambda = ${arrival_rate}, $\\mu = ${departure_rate}')\n",
    "axes.legend()\n",
    "fig.savefig(f'simulation_results/mmm_interArrivalTime_{arrival_rate}_{departure_rate}.pdf')\n",
    "fig.savefig(f'simulation_results/mmm_interArrivalTime_{arrival_rate}_{departure_rate}.svg', transparent=True)"
   ]
  },
  {
   "cell_type": "markdown",
   "metadata": {},
   "source": [
    "- State Probabilities (in equilibrium)\n",
    "\n",
    "\\begin{align} \n",
    "            p_0 &= \\left[ 1 + \\sum_{n=1}^{m-1} \\frac{1}{n!} \\left( \\frac{\\lambda}{\\mu} \\right)^n + \\sum_{n=m}^{\\infty} \\frac{1}{m^{n-m}} \\frac{1}{m!} \\left( \\frac{\\lambda}{\\mu} \\right)^n \\right]^{-1}\\\\\n",
    "            p_n &= \\frac{\\lambda^n}{n! \\mu^n} p_0 \\quad \\text{if} \\ 1 \\leq n < m\\\\\n",
    "            p_n &= \\frac{\\lambda^n}{m^{n-m} m! \\mu^n} p_0 \\quad \\text{if} \\ n \\geq m.\n",
    "\\end{align}"
   ]
  },
  {
   "cell_type": "code",
   "execution_count": null,
   "metadata": {},
   "outputs": [],
   "source": [
    "rho = arrival_rate / departure_rate\n",
    "rho_prime = arrival_rate / (num_servers * departure_rate)\n",
    "analytical_dist = []\n",
    "p_0_inv = 1\n",
    "for n in range(1, num_servers):\n",
    "    p_0_inv += (1 / factorial(n)) * (rho ** n)\n",
    "for n in range(num_servers, 2 ** 10):\n",
    "    # Hopefully the sum will converge \n",
    "    p_0_inv += (1 / (num_servers ** (n - num_servers))) * (1 / factorial(num_servers)) * (rho ** n)\n",
    "\n",
    "p_0 = 1 / p_0_inv\n",
    "\n",
    "for n in range(num_servers):\n",
    "    p_i = (1 / factorial(n)) * (rho ** n) * p_0\n",
    "    analytical_dist.append(p_i)\n",
    "for n in range(num_servers, 25):\n",
    "    p_i = (1 / (num_servers ** (n - num_servers))) * (1 / factorial(num_servers)) * (rho ** n) * p_0\n",
    "    analytical_dist.append(p_i)\n",
    "\n",
    "# First, we will extract the unique states and their respective frequencies:\n",
    "unique_elements, counts = np.unique(queue_history, return_counts=True)\n",
    "\n",
    "total_count = sum(counts)\n",
    "\n",
    "fig, axes = plt.subplots()\n",
    "axes.stem(analytical_dist, linefmt='cornflowerblue', basefmt='cornflowerblue', label='Ideal')\n",
    "axes.bar(unique_elements, counts / total_count, color='midnightblue', label='Empirical')\n",
    "axes.set_ylabel(f'$p_n$')\n",
    "axes.set_title(f'M/M/m with $\\lambda = ${arrival_rate}, $\\mu = ${departure_rate}')\n",
    "axes.legend()\n",
    "fig.savefig(f'simulation_results/mmm_stateProbs_{arrival_rate}_{departure_rate}.pdf')\n",
    "fig.savefig(f'simulation_results/mmm_stateProbs_{arrival_rate}_{departure_rate}.svg', transparent=True)"
   ]
  },
  {
   "cell_type": "code",
   "execution_count": null,
   "metadata": {},
   "outputs": [],
   "source": [
    "# Study of the waiting room and server room:\n",
    "fig, axes = plt.subplots()\n",
    "axes.plot(waiting_room_state, color='maroon', label='Waiting Room')\n",
    "axes.plot(server_room_state, color='midnightblue', alpha=0.5, label='Server Room')\n",
    "axes.set_xlabel(f'time')\n",
    "axes.set_ylabel(f'Number of Customers')\n",
    "axes.set_title(f'M/M/m with $\\lambda = ${arrival_rate}, $\\mu = ${departure_rate}')\n",
    "axes.legend()\n",
    "fig.savefig(f'simulation_results/mmm_status_{arrival_rate}_{departure_rate}.pdf')\n",
    "fig.savefig(f'simulation_results/mmm_status_{arrival_rate}_{departure_rate}.svg', transparent=True)"
   ]
  },
  {
   "cell_type": "markdown",
   "metadata": {},
   "source": [
    "#### M/G/1 Queue\n",
    "\n",
    "- Theory \n",
    "\n",
    "- Analytical Results\n",
    "    - $\\text{Pollaczek-Khinchin Mean Value Formula}$\n",
    "- Implementation"
   ]
  },
  {
   "cell_type": "code",
   "execution_count": null,
   "metadata": {},
   "outputs": [],
   "source": []
  }
 ],
 "metadata": {
  "kernelspec": {
   "display_name": "ML_Tflow",
   "language": "python",
   "name": "python3"
  },
  "language_info": {
   "codemirror_mode": {
    "name": "ipython",
    "version": 3
   },
   "file_extension": ".py",
   "mimetype": "text/x-python",
   "name": "python",
   "nbconvert_exporter": "python",
   "pygments_lexer": "ipython3",
   "version": "3.11.9"
  }
 },
 "nbformat": 4,
 "nbformat_minor": 4
}
