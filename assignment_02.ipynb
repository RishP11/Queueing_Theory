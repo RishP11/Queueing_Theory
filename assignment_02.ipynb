{
 "cells": [
  {
   "cell_type": "markdown",
   "metadata": {},
   "source": [
    "<font color='lime'>EE 699 Next Generation Wireless Networks</font> \n",
    "- Assignment 02 \n",
    "- Author: $\\text{Rishabh Pomaje}$ \n",
    "- Contact: 210020036@iitdh.ac.in\n",
    "\n",
    "- In this notebook, we will simulate the following queues and compare our empirical findings with the analytic results.\n",
    "1. $M/M/1$\n",
    "    - Poisson arrival process.\n",
    "    - Exponential service times.\n",
    "    - Single server.\n",
    "    - Infinte buffer length."
   ]
  },
  {
   "cell_type": "code",
   "execution_count": 5,
   "metadata": {},
   "outputs": [],
   "source": [
    "# Dependencies :\n",
    "import numpy as np\n",
    "import matplotlib.pyplot as plt \n",
    "%config InlineBackend.figure_format='svg'\n",
    "# Set global parameters for publication quality\n",
    "plt.rcParams.update({\n",
    "    \"text.usetex\": True,            # Use LaTeX for text rendering :: Comment if TeX is unavailable on your machine \n",
    "    \"font.family\": \"serif\",         \n",
    "    \"font.serif\": [\"Computer Modern\"],  \n",
    "})\n",
    "import seaborn as sns \n",
    "sns.set_theme('paper')"
   ]
  },
  {
   "cell_type": "markdown",
   "metadata": {},
   "source": [
    "1. **M/M/1**"
   ]
  },
  {
   "cell_type": "code",
   "execution_count": null,
   "metadata": {},
   "outputs": [],
   "source": [
    "def m_m_1_q(simTime, arrRate, depRate):\n",
    "    \"\"\" \n",
    "    Function to simulate an M/M/1 queue.\n",
    "    Just input the time duration (in seconds) that you would like to simulate the queue for. \n",
    "    \"\"\"\n",
    "    # Setting the time resolution :: The smallest time interval where only one arrival or departure can occur.\n",
    "    del_t = 10 ** 3 \n",
    "    # Defining the \"Utilization\"\n",
    "    rho = arrRate / depRate \n",
    "    # Start with an empty queue:\n",
    "    queue = []\n",
    "\n",
    "\n",
    "    return queue"
   ]
  }
 ],
 "metadata": {
  "kernelspec": {
   "display_name": "ML_Tflow",
   "language": "python",
   "name": "python3"
  },
  "language_info": {
   "codemirror_mode": {
    "name": "ipython",
    "version": 3
   },
   "file_extension": ".py",
   "mimetype": "text/x-python",
   "name": "python",
   "nbconvert_exporter": "python",
   "pygments_lexer": "ipython3",
   "version": "3.11.9"
  }
 },
 "nbformat": 4,
 "nbformat_minor": 2
}
