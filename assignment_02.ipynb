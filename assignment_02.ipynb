{
 "cells": [
  {
   "cell_type": "markdown",
   "metadata": {},
   "source": [
    "### EE 699 Next Generation Wireless Networks \n",
    "- Assignment 02 \n",
    "- Author: $\\text{Rishabh Pomaje}$ \n",
    "- Contact: 210020036@iitdh.ac.in\n",
    "\n",
    "- In this notebook, we will simulate the following queues and compare our empirical findings with the analytic results."
   ]
  },
  {
   "cell_type": "markdown",
   "metadata": {},
   "source": [
    "\n",
    "1. $M/M/1$ Assumptions :\n",
    "    - Poisson arrival process.\n",
    "    - Exponential service times.\n",
    "    - Single server.\n",
    "    - Infinte buffer length."
   ]
  },
  {
   "cell_type": "code",
   "execution_count": null,
   "metadata": {},
   "outputs": [],
   "source": [
    "# Dependencies :\n",
    "import numpy as np\n",
    "import matplotlib.pyplot as plt \n",
    "%config InlineBackend.figure_format='svg'\n",
    "# Set global parameters for publication quality\n",
    "plt.rcParams.update({\n",
    "    \"text.usetex\": True,            # Comment if TeX is unavailable on your machine \n",
    "    \"font.family\": \"serif\",          \n",
    "})\n",
    "import seaborn as sns \n",
    "sns.set_theme('paper')"
   ]
  },
  {
   "cell_type": "code",
   "execution_count": null,
   "metadata": {},
   "outputs": [],
   "source": [
    "# Global Definitions :\n",
    "del_t = 10 ** -3            # in some time units"
   ]
  },
  {
   "cell_type": "markdown",
   "metadata": {},
   "source": [
    "#### M/M/1 Queue\n",
    "\n",
    "- Note: The arrival rate should be lesser than the departure rate to achieve equilibrium."
   ]
  },
  {
   "cell_type": "code",
   "execution_count": null,
   "metadata": {},
   "outputs": [],
   "source": [
    "def m_m_1_q(simTime, arrRate, depRate):\n",
    "    \"\"\" \n",
    "    Function to simulate an M/M/1 queue.\n",
    "    Just input \n",
    "    1. simTime = Time duration (in seconds) that you would like to simulate the queue for.\n",
    "    2. arrRate = The arrival rate (per unit time)\n",
    "    3. depRate = The departure rate (per unit time)\n",
    "\n",
    "    You will get as output 3 lists.\n",
    "    1. The state of the queue at time t = 0, delT, 2delT, 3delT, and so on.\n",
    "    2. The interarrival times.\n",
    "    3. The departure times.    \n",
    "    \"\"\" \n",
    "    # To store the inter-arrival and inter-departure times\n",
    "    intArrTimes = []\n",
    "    intDepTimes = [] \n",
    "    \n",
    "    # Timers for arrival and departure\n",
    "    arrTimer = 0 \n",
    "    depTimer = 0 \n",
    "\n",
    "    # Start with an empty queue\n",
    "    num_runs = int(simTime / del_t)\n",
    "    queue = np.zeros(num_runs) \n",
    "    \n",
    "    # Individual customer timer and tracking ID\n",
    "    individualTimers = []\n",
    "    customerID = 0                              # Tracks the customer being served by the server  \n",
    "\n",
    "    for i in range(1, num_runs):\n",
    "        # Flip a coin for arrival  \n",
    "        isArrival = np.random.binomial(1, min(1, arrRate * del_t))\n",
    "        # Flip a coin for departure only if there is an arrival\n",
    "        if queue[i-1] >= 1:\n",
    "            isDeparture = np.random.binomial(1, min(1, depRate * del_t))\n",
    "        else:\n",
    "            isDeparture = 0\n",
    "\n",
    "        # Update the current state\n",
    "        queue[i] = queue[i-1] + isArrival - isDeparture\n",
    "        \n",
    "        # Increment the timers for both arrival and departure\n",
    "        arrTimer += del_t\n",
    "        depTimer += del_t\n",
    "        for idx in range(customerID, len(individualTimers)):\n",
    "            individualTimers[idx] += del_t\n",
    "        \n",
    "        # If there was an arrival record the Inter-arrival time and clear the timer (restart)\n",
    "        if isArrival:\n",
    "            intArrTimes.append(arrTimer)\n",
    "            arrTimer = 0\n",
    "            individualTimers.append(0)\n",
    "        # Similarly for departures\n",
    "        if isDeparture:\n",
    "            intDepTimes.append(depTimer)\n",
    "            depTimer = 0 \n",
    "            customerID += 1\n",
    "\n",
    "    return [queue, intArrTimes, intDepTimes, individualTimers]"
   ]
  },
  {
   "cell_type": "code",
   "execution_count": null,
   "metadata": {},
   "outputs": [],
   "source": [
    "total_simul_time = 1000     # In common time units\n",
    "arrival_rate = 6            # Number of arrivals per unit time\n",
    "departure_rate = 10         # Number of departure per unit time\n",
    "queue_history, arr_Times, dep_Times, ind_Times = m_m_1_q(total_simul_time, arrival_rate, departure_rate)"
   ]
  },
  {
   "cell_type": "markdown",
   "metadata": {},
   "source": [
    "- Evolution of the state of the system"
   ]
  },
  {
   "cell_type": "code",
   "execution_count": null,
   "metadata": {},
   "outputs": [],
   "source": [
    "fig, axes = plt.subplots()\n",
    "axes.plot(del_t * np.arange(int(total_simul_time / del_t)), queue_history, color='navy')\n",
    "axes.set_xlabel(f'time')\n",
    "axes.set_ylabel(f'State of the system, $N(t)$')"
   ]
  },
  {
   "cell_type": "markdown",
   "metadata": {},
   "source": [
    "- Distribution of Inter-Arrival times"
   ]
  },
  {
   "cell_type": "code",
   "execution_count": null,
   "metadata": {},
   "outputs": [],
   "source": [
    "# Ideal PDF of Inter-arrival times :\n",
    "t = np.linspace(0, np.max(arr_Times), 1000)\n",
    "ideal_dist = arrival_rate * np.exp(-arrival_rate * t)\n",
    "\n",
    "fig, axes = plt.subplots()\n",
    "# Plot the ideal line\n",
    "axes.plot(t, ideal_dist, color='purple', label='Ideal')\n",
    "# Plot the empirical line\n",
    "axes.hist(arr_Times, bins=41, density=True, linewidth=0.5, edgecolor='tan', color='salmon', label='Empirical')\n",
    "axes.set_xlabel(f'time')\n",
    "axes.set_ylabel(f'$f_T(t)$', rotation=0)\n",
    "axes.legend()"
   ]
  },
  {
   "cell_type": "markdown",
   "metadata": {},
   "source": [
    "- State Probabilities"
   ]
  },
  {
   "cell_type": "code",
   "execution_count": null,
   "metadata": {},
   "outputs": [],
   "source": [
    "# Ideal PMF :: rho^n (1 - rho)\n",
    "rho = arrival_rate / departure_rate\n",
    "ideal_dist = []\n",
    "for i in range(25):\n",
    "    p_i = (rho ** i) * (1 - rho)\n",
    "    ideal_dist.append(p_i)\n",
    "\n",
    "# First, we will extract the unique states and their respective frequencies:\n",
    "unique_elements, counts = np.unique(queue_history, return_counts=True)\n",
    "\n",
    "total_count = sum(counts)\n",
    "\n",
    "fig, axes = plt.subplots()\n",
    "axes.stem(ideal_dist, linefmt='cornflowerblue', basefmt='cornflowerblue', label='Ideal')\n",
    "axes.bar(unique_elements, counts / total_count, color='midnightblue', label='Empirical')\n",
    "axes.set_ylabel(r'$P_{N(t)}(n)$')\n",
    "axes.legend()"
   ]
  },
  {
   "cell_type": "markdown",
   "metadata": {},
   "source": [
    "- Average number of customers and Variance of number of customers"
   ]
  },
  {
   "cell_type": "code",
   "execution_count": null,
   "metadata": {},
   "outputs": [],
   "source": [
    "mean_empirical = np.mean(queue_history)\n",
    "mean_ideal = rho / (1 - rho)\n",
    "\n",
    "print(f'Expected mean value : {mean_ideal}\\n -> Observed mean value : {mean_empirical}')\n",
    "\n",
    "var_empirical = np.var(queue_history)\n",
    "var_ideal = rho / ((1 - rho) ** 2)\n",
    "\n",
    "print(f'Expected variance : {var_ideal}\\n -> Observed variance : {var_empirical}')"
   ]
  },
  {
   "cell_type": "markdown",
   "metadata": {},
   "source": [
    "- Little's Law:\n",
    "    - The average number of customers in a queue is equal to the product of the arrival rate times the average time spent in the queue.\n",
    "    - $\\bar{N} = \\lambda \\bar{\\tau}$"
   ]
  },
  {
   "cell_type": "code",
   "execution_count": null,
   "metadata": {},
   "outputs": [],
   "source": [
    "print(f'Average number of customers in the queue = {mean_empirical}')\n",
    "print(f'Product = {arrival_rate * np.mean(ind_Times)}')"
   ]
  },
  {
   "cell_type": "markdown",
   "metadata": {},
   "source": [
    "#### M/M/1/N - _Finite buffer case_ "
   ]
  },
  {
   "cell_type": "code",
   "execution_count": null,
   "metadata": {},
   "outputs": [],
   "source": [
    "def m_m_1_N_q(simTime, arrRate, depRate, N):\n",
    "    \"\"\" \n",
    "    Function to simulate an M/M/1/N queue.\n",
    "    Just input \n",
    "    1. simTime = Time duration (in seconds) that you would like to simulate the queue for.\n",
    "    2. arrRate = The arrival rate (per unit time)\n",
    "    3. depRate = The departure rate (per unit time)\n",
    "    4. N       = Buffer size\n",
    "    You will get as output 3 lists.\n",
    "    1. The state of the queue at time t = 0, delT, 2delT, 3delT, and so on.\n",
    "    2. The interarrival times.\n",
    "    3. The departure times.    \n",
    "    \"\"\" \n",
    "    # To store the inter-arrival and inter-departure times\n",
    "    intArrTimes = []\n",
    "    intDepTimes = [] \n",
    "    \n",
    "    # Timers for arrival and departure\n",
    "    arrTimer = 0 \n",
    "    depTimer = 0 \n",
    "\n",
    "    # Start with an empty queue\n",
    "    num_runs = int(simTime / del_t)\n",
    "    queue = np.zeros(num_runs) \n",
    "    \n",
    "    # Individual customer timer and tracking ID\n",
    "    individualTimers = []\n",
    "    customerID = 0                              # Tracks the customer being served by the server  \n",
    "\n",
    "    for i in range(1, num_runs):\n",
    "        # Flip a coin for arrival  \n",
    "        if queue[i-1] >= N:\n",
    "            isArrival = 0                       # Turn down the new arrival(s)\n",
    "        else:\n",
    "            isArrival = np.random.binomial(1, min(1, arrRate * del_t))\n",
    "        # Flip a coin for departure only if there is atleast arrival\n",
    "        if queue[i-1] >= 1:\n",
    "            isDeparture = np.random.binomial(1, min(1, depRate * del_t))\n",
    "        else:\n",
    "            isDeparture = 0\n",
    "\n",
    "        # Update the current state\n",
    "        queue[i] = queue[i-1] + isArrival - isDeparture\n",
    "        # Increment the timers for both arrival and departure\n",
    "        arrTimer += del_t\n",
    "        depTimer += del_t\n",
    "        for idx in range(customerID, len(individualTimers)):\n",
    "            individualTimers[idx] += del_t\n",
    "        \n",
    "        # If there was an arrival record the Inter-arrival time and clear the timer (restart)\n",
    "        if isArrival:\n",
    "            intArrTimes.append(arrTimer)\n",
    "            arrTimer = 0\n",
    "            individualTimers.append(0)\n",
    "        # Similarly for departures\n",
    "        if isDeparture:\n",
    "            intDepTimes.append(depTimer)\n",
    "            depTimer = 0 \n",
    "            customerID += 1\n",
    "\n",
    "    return [queue, intArrTimes, intDepTimes, individualTimers]"
   ]
  },
  {
   "cell_type": "code",
   "execution_count": null,
   "metadata": {},
   "outputs": [],
   "source": [
    "total_simul_time = 1000     # In common time units\n",
    "arrival_rate = 6            # Number of arrivals per unit time\n",
    "departure_rate = 10         # Number of departure per unit time\n",
    "buffer_size = 10            # Buffer size of the queue\n",
    "queue_history, arr_Times, dep_Times, ind_Times = m_m_1_N_q(total_simul_time, arrival_rate, departure_rate, buffer_size)"
   ]
  },
  {
   "cell_type": "code",
   "execution_count": null,
   "metadata": {},
   "outputs": [],
   "source": [
    "np.max(queue_history)"
   ]
  },
  {
   "cell_type": "markdown",
   "metadata": {},
   "source": [
    "- Evolution of the state of the system"
   ]
  },
  {
   "cell_type": "code",
   "execution_count": null,
   "metadata": {},
   "outputs": [],
   "source": [
    "fig, axes = plt.subplots()\n",
    "axes.plot(del_t * np.arange(int(total_simul_time / del_t)), queue_history, color='navy')\n",
    "axes.set_xlabel(f'time')\n",
    "axes.set_ylabel(f'State of the system, $N(t)$')"
   ]
  },
  {
   "cell_type": "markdown",
   "metadata": {},
   "source": [
    "- Distribution of Inter-Arrival times"
   ]
  },
  {
   "cell_type": "code",
   "execution_count": null,
   "metadata": {},
   "outputs": [],
   "source": [
    "# Ideal PDF of Inter-arrival times :\n",
    "t = np.linspace(0, max(arr_Times), 1000)\n",
    "ideal_dist = arrival_rate * np.exp(-arrival_rate * t)\n",
    "\n",
    "fig, axes = plt.subplots()\n",
    "# Plot the ideal line\n",
    "axes.plot(t, ideal_dist, color='purple', label='Ideal')\n",
    "# Plot the empirical line\n",
    "axes.hist(arr_Times, bins=41, density=True, linewidth=0.5, edgecolor='tan', color='salmon', label='Empirical')\n",
    "axes.set_xlabel(f'time')\n",
    "axes.set_ylabel(f'$f_T(t)$', rotation=0)\n",
    "axes.legend()"
   ]
  },
  {
   "cell_type": "markdown",
   "metadata": {},
   "source": [
    "- State Probabilities"
   ]
  },
  {
   "cell_type": "code",
   "execution_count": null,
   "metadata": {},
   "outputs": [],
   "source": [
    "# Ideal PMF :: rho^n (1 - rho)\n",
    "rho = arrival_rate / departure_rate\n",
    "ideal_dist = []\n",
    "for i in range(buffer_size):\n",
    "    p_i = (1 - rho) * (rho ** i) / (1 - (rho ** (buffer_size+1)))\n",
    "    ideal_dist.append(p_i)\n",
    "\n",
    "# First, we will extract the unique states and their respective frequencies:\n",
    "unique_elements, counts = np.unique(queue_history, return_counts=True)\n",
    "\n",
    "total_count = sum(counts)\n",
    "\n",
    "fig, axes = plt.subplots()\n",
    "axes.stem(ideal_dist, linefmt='cornflowerblue', basefmt='cornflowerblue', label='Ideal')\n",
    "axes.bar(unique_elements, counts / total_count, color='midnightblue', label='Empirical')\n",
    "axes.set_ylabel(r'$P_{N(t)}(n)$')\n",
    "axes.legend()"
   ]
  },
  {
   "cell_type": "markdown",
   "metadata": {},
   "source": [
    "#### M/M/$\\infty$ - Infinite server system"
   ]
  },
  {
   "cell_type": "code",
   "execution_count": 25,
   "metadata": {},
   "outputs": [],
   "source": [
    "def m_m_infinite_q(simTime, arrRate, depRate):\n",
    "    \"\"\" \n",
    "    Function to simulate an M/M/infinite queue.\n",
    "    Just input \n",
    "    1. simTime = Time duration (in seconds) that you would like to simulate the queue for.\n",
    "    2. arrRate = The arrival rate (per unit time)\n",
    "    3. depRate = The departure rate (per unit time)\n",
    "    \n",
    "    You will get as output 3 lists.\n",
    "    1. The state of the queue at time t = 0, delT, 2delT, 3delT, and so on.\n",
    "    2. The interarrival times.\n",
    "    3. The departure times.    \n",
    "    \"\"\" \n",
    "    # To store the inter-arrival and inter-departure times\n",
    "    intArrTimes = []\n",
    "    intDepTimes = [] \n",
    "    \n",
    "    # Timers for arrival and departure\n",
    "    arrTimer = 0 \n",
    "    depTimer = 0 \n",
    "\n",
    "    # Start with an empty queue\n",
    "    num_runs = int(simTime / del_t)\n",
    "    numCustomers = np.zeros(num_runs) \n",
    "    \n",
    "    # Individual customer timer and tracking ID\n",
    "    individualTimers = []\n",
    "    customerID = 0                                  # For tracking purposes\n",
    "    activeIDs = []                                  # Will keep a record of customers currently at the server desk\n",
    "\n",
    "    for i in range(1, num_runs):\n",
    "        # Flip a coin for arrival\n",
    "        # print(f'--------------Run Begin-------------------------')  \n",
    "        # print(f'Previous state ={numCustomers[i-1]}')\n",
    "        isArrival = np.random.binomial(1, min(1, arrRate * del_t))\n",
    "        # print(f'isArrival = {isArrival}')\n",
    "        # Flip a coin for departure only if there is atleast 1 customer\n",
    "        if numCustomers[i-1] >= 1:\n",
    "            # Create a departures list of indices\n",
    "            isDepartures = [np.random.binomial(1, min(1, depRate * del_t)) for _ in range(int(numCustomers[i-1]))]\n",
    "        else:\n",
    "            isDepartures = []\n",
    "        # print(f'isDepartures = {isDepartures}')\n",
    "        # Update the current state\n",
    "        numCustomers[i] = numCustomers[i-1] + isArrival - np.sum(isDepartures)\n",
    "        # print(f'Updated state = {numCustomers[i]}')\n",
    "        # Increment the timers for both arrival and departure\n",
    "        arrTimer += del_t\n",
    "        for idx in activeIDs:\n",
    "            individualTimers[idx] += del_t\n",
    "        \n",
    "        # Similarly for departures\n",
    "        if isDepartures:\n",
    "            intDepTimes.append(depTimer)\n",
    "            depTimer = 0 \n",
    "        # Keep only the unserved IDs in the active ID list\n",
    "        tempIDs = [activeIDs[i] for i in range(len(isDepartures)) if isDepartures[i] == 0]\n",
    "        activeIDs = tempIDs\n",
    "        # print(f'activeIDs_post_dep = {activeIDs}')\n",
    "        \n",
    "        # If there was an arrival record the Inter-arrival time and clear the timer (restart)\n",
    "        if isArrival:\n",
    "            intArrTimes.append(arrTimer)\n",
    "            arrTimer = 0\n",
    "            individualTimers.append(0)\n",
    "            activeIDs.append(customerID)\n",
    "            customerID += 1 \n",
    "        # print(f'activeIDs_post_arr = {activeIDs}')\n",
    "\n",
    "        # print(f'--------------------Run End---------------------------')\n",
    "    # return [numCustomers, intArrTimes, intDepTimes, individualTimers]"
   ]
  },
  {
   "cell_type": "code",
   "execution_count": null,
   "metadata": {},
   "outputs": [],
   "source": []
  }
 ],
 "metadata": {
  "kernelspec": {
   "display_name": "ML_Tflow",
   "language": "python",
   "name": "python3"
  },
  "language_info": {
   "codemirror_mode": {
    "name": "ipython",
    "version": 3
   },
   "file_extension": ".py",
   "mimetype": "text/x-python",
   "name": "python",
   "nbconvert_exporter": "python",
   "pygments_lexer": "ipython3",
   "version": "3.11.9"
  }
 },
 "nbformat": 4,
 "nbformat_minor": 2
}
